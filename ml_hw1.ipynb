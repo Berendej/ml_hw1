{
  "nbformat": 4,
  "nbformat_minor": 0,
  "metadata": {
    "colab": {
      "provenance": [],
      "authorship_tag": "ABX9TyOMGQzDvpsBzEObwQnDqK3z",
      "include_colab_link": true
    },
    "kernelspec": {
      "name": "python3",
      "display_name": "Python 3"
    },
    "language_info": {
      "name": "python"
    }
  },
  "cells": [
    {
      "cell_type": "markdown",
      "metadata": {
        "id": "view-in-github",
        "colab_type": "text"
      },
      "source": [
        "<a href=\"https://colab.research.google.com/github/Berendej/ml_hw1/blob/main/ml_hw1.ipynb\" target=\"_parent\"><img src=\"https://colab.research.google.com/assets/colab-badge.svg\" alt=\"Open In Colab\"/></a>"
      ]
    },
    {
      "cell_type": "code",
      "execution_count": null,
      "metadata": {
        "id": "FJsBAQymp0RW"
      },
      "outputs": [],
      "source": []
    },
    {
      "cell_type": "markdown",
      "source": [
        "Пользователь вводит пятизначное число. Программа должна зеркально\n",
        "отразить центральные три цифры. Первая и последняя остаются на местах.\n",
        "Пример:\n",
        "23456 -> 25436\n",
        "30789 -> 38709"
      ],
      "metadata": {
        "id": "5J_jadvbp1-2"
      }
    },
    {
      "cell_type": "code",
      "source": [
        "import sys\n",
        "\n",
        "# [start:end:step]\n",
        "v = \"12345\"\n",
        "v = input(\"enter 5 digits number :\")\n",
        "if ( 5 != len(v) ):\n",
        "    print( \"wrong input\" )\n",
        "    sys.exit(-1)\n",
        "\n",
        "v3 = v[0] + v[3:0:-1] + v[4]\n",
        "print(v3)\n"
      ],
      "metadata": {
        "colab": {
          "base_uri": "https://localhost:8080/"
        },
        "id": "8OCHaKcPp6Nx",
        "outputId": "ad6bacd9-5a35-4fdb-e235-a4df97da26e8"
      },
      "execution_count": null,
      "outputs": [
        {
          "output_type": "stream",
          "name": "stdout",
          "text": [
            "enter 5 digits number :12345\n",
            "14325\n"
          ]
        }
      ]
    },
    {
      "cell_type": "markdown",
      "source": [
        "Отпуск. Пользователь вводит сколько дней осталось до ближайшего отпуска.\n",
        "Программа должна вывести количество выходных дней до отпуска, если учесть\n",
        "что выходные это суббота и воскресенье, сегодня понедельник и праздники\n",
        "мы не учитываем.\n",
        "Пример:\n",
        "4 -> 0\n",
        "6 -> 1\n",
        "14 -> 4"
      ],
      "metadata": {
        "id": "SGFnknLrGCYn"
      }
    },
    {
      "cell_type": "code",
      "source": [
        "import sys\n",
        "\n",
        "def num_vyh(n):\n",
        "    # assert n < 7 !\n",
        "    if ( 6 == n  ):\n",
        "        return 1\n",
        "    return 0\n",
        "\n",
        "def holid_to_vac(n):\n",
        "    h = n // 7  * 2 + num_vyh(n % 7)\n",
        "    return h\n",
        "\n",
        "def test():\n",
        "    res = True\n",
        "    if ( 0 != holid_to_vac(4)):\n",
        "        res = False\n",
        "    if ( 1 != holid_to_vac(6)):\n",
        "        res = False\n",
        "    if ( 4 != holid_to_vac(14)):\n",
        "        res = False\n",
        "    if ( 3 != holid_to_vac(13)):\n",
        "        res = False\n",
        "    if ( 2 != holid_to_vac(12)):\n",
        "        res = False\n",
        "    return res\n",
        "\n",
        "if ( not test() ):\n",
        "    print(\"sorry it doesn't work\")\n",
        "    sys.exit(-1)\n",
        "\n",
        "n = 0\n",
        "#if (len(sys.argv) > 1 ):\n",
        "#    n = int(sys.argv[1]) # batch mode\n",
        "#else:\n",
        "n = int(input(\"enter days number to vacation \"))\n",
        "print(\"holidays to vacation left: \", end=\"\")\n",
        "\n",
        "print(holid_to_vac(n))\n"
      ],
      "metadata": {
        "colab": {
          "base_uri": "https://localhost:8080/"
        },
        "id": "YwkXufLZGnrD",
        "outputId": "fdfff55e-5f07-42da-9587-3ea07713ba44"
      },
      "execution_count": null,
      "outputs": [
        {
          "output_type": "stream",
          "name": "stdout",
          "text": [
            "enter days number to vacation 14\n",
            "holidays to vacation left: 4\n"
          ]
        }
      ]
    },
    {
      "cell_type": "markdown",
      "source": [
        "Пользователь вводит длину и ширину плитки шоколада, а также размер куска, который хочет отломить, программа должна вычислить - можно ли совершить подобный разлом или нет, если учесть, что ломать можно только по прямой\n",
        "\n",
        "Пример:\n",
        "\n",
        "3, 4, 6 -> True\n",
        "5, 7, 8 -> False\n",
        "4, 5, 12 -> True"
      ],
      "metadata": {
        "id": "iUd54vz7Gxex"
      }
    },
    {
      "cell_type": "code",
      "source": [
        "import sys\n",
        "\n",
        "def is_possible(l, w, chunk):\n",
        "    if ( chunk > l*w):\n",
        "        return False\n",
        "    if ( 0 == chunk % l ) or ( 0 == chunk % w):\n",
        "        return True\n",
        "    return False\n",
        "\n",
        "def test():\n",
        "    res = True\n",
        "    if is_possible(3, 4, 24):\n",
        "        res = False\n",
        "    if not is_possible(3, 4, 6):\n",
        "        res = False\n",
        "    if is_possible(5, 7, 8):\n",
        "        res = False\n",
        "    if not is_possible(4, 5, 12):\n",
        "        res = False\n",
        "    return res\n",
        "\n",
        "if ( not test() ):\n",
        "    print (\"sorry it doesn't work\")\n",
        "    sys.exit(-1)\n",
        "\n",
        "l = int(input(\"enter length: \"))\n",
        "w = int(input(\"enter width: \"))\n",
        "chunk = int(input(\"enter chunk: \"))\n",
        "\n",
        "if (not is_possible(l, w, chunk)):\n",
        "    print(\"no way to \", end=\"\")\n",
        "else:\n",
        "    print(\"it is possible to \", end=\"\")\n",
        "print(\"get piece of\", chunk, \"from\", w, \"x\", l, \"bar\" )\n"
      ],
      "metadata": {
        "colab": {
          "base_uri": "https://localhost:8080/"
        },
        "id": "QQa4Ei1sG0XU",
        "outputId": "5db9262a-06d5-4b28-c434-b101e3589863"
      },
      "execution_count": null,
      "outputs": [
        {
          "output_type": "stream",
          "name": "stdout",
          "text": [
            "enter length: 4\n",
            "enter width: 5\n",
            "enter chunk: 12\n",
            "it is possible to get piece of 12 from 5 x 4 bar\n"
          ]
        }
      ]
    },
    {
      "cell_type": "markdown",
      "source": [
        "Пользователь вводит целое положительное число, программа должна вернуть строку в виде римского числа\n",
        "Пример:\n",
        "\n",
        "3 -> III\n",
        "15 -> XV\n",
        "234 -> CCXXXIV\n",
        "\n",
        "Натуральные числа записываются при помощи повторения этих цифр.\n",
        "При этом, если бо́льшая цифра стоит перед меньшей, то они\n",
        "складываются (принцип сложения), если же меньшая стоит перед\n",
        "большей, то меньшая вычитается из большей (принцип вычитания).\n",
        "Последнее правило применяется только во избежание четырёхкратного\n",
        "повторения одной и той же цифры.\n",
        "\n",
        "1    I    unus, unum\n",
        "5    V    quinque\n",
        "10    X    decem\n",
        "50    L    quinquaginta\n",
        "100    C    centum\n",
        "500       D    quingenti\n",
        "1000    M    mille\n",
        "\"\"\""
      ],
      "metadata": {
        "id": "x_wuzJSCHHfv"
      }
    },
    {
      "cell_type": "code",
      "source": [
        "n = int(input(\"enter number: \"))\n",
        "m = n // 1000\n",
        "n = n - ( m * 1000)\n",
        "d = n // 500\n",
        "n = n - ( d * 500)\n",
        "c = n // 100\n",
        "n = n - ( c * 100)\n",
        "l = n // 50\n",
        "n = n - ( l * 50)\n",
        "x = n // 10\n",
        "n = n - ( x * 10)\n",
        "v = n // 5\n",
        "n = n - ( v * 5)\n",
        "i = n\n",
        "\n",
        "res = \"\"\n",
        "for i in range(m):\n",
        "    res = res + \"M\"\n",
        "for i in range(d):\n",
        "    res = res + \"D\"\n",
        "if 4 == c:\n",
        "    res = res + \"CD\"\n",
        "else:\n",
        "    for i in range(c):\n",
        "        res = res + \"C\"\n",
        "for i in range(l):\n",
        "    res = res + \"L\"\n",
        "if  4 == x :\n",
        "    res = res + \"XL\"\n",
        "else:\n",
        "    for i in range(x):\n",
        "        res = res + \"X\"\n",
        "for i in range(v):\n",
        "    res = res + \"V\"\n",
        "if ( 4 == n ):\n",
        "    res = res + \"IV\"\n",
        "else:\n",
        "    for i in range(n):\n",
        "        res = res + \"I\"\n",
        "\n",
        "print (res);\n"
      ],
      "metadata": {
        "colab": {
          "base_uri": "https://localhost:8080/"
        },
        "id": "eU8e3penHUK2",
        "outputId": "f59ca9c3-45f0-4142-f136-789442bc1ca6"
      },
      "execution_count": 2,
      "outputs": [
        {
          "output_type": "stream",
          "name": "stdout",
          "text": [
            "enter number: 4444\n",
            "MMMMCDXLIV\n"
          ]
        }
      ]
    },
    {
      "cell_type": "markdown",
      "source": [
        "Пользователь вводит данные, проверить - являются ли они положительным вещественным числом. Не использовать встроенные функции для проверки, только методы данных и конструкцию IF. (Дополнительное задание, по желанию - проверка на отрицательные вещественные числа)"
      ],
      "metadata": {
        "id": "jwJD9hbHHdWa"
      }
    },
    {
      "cell_type": "code",
      "source": [
        "def is_digit(c):\n",
        "    if ( c >= '0' and c <= '9' ):\n",
        "        return True\n",
        "    return False\n",
        "\n",
        "def is_float(s):\n",
        "    state = 0\n",
        "    for c in s:\n",
        "        if (0 == state): # state0 : [-, digit, dot] allowed\n",
        "            if ('-' == c):\n",
        "                state = 1\n",
        "            elif('.' == c ):\n",
        "                state = 2\n",
        "            else:\n",
        "                if (not is_digit(c)):\n",
        "                    return False\n",
        "\n",
        "        elif(1 == state): # state1 [digit, dot] allowed\n",
        "            if ( '.' == c ):\n",
        "                state = 2\n",
        "            elif (not is_digit(c)):\n",
        "                return False\n",
        "\n",
        "        elif(2 == state): # state2 [digit] allowed\n",
        "            if (not is_digit(c)):\n",
        "                return False\n",
        "    return True\n",
        "\n",
        "s = input(\"enter float number or whatever: \")\n",
        "print ( is_float(s))\n"
      ],
      "metadata": {
        "colab": {
          "base_uri": "https://localhost:8080/"
        },
        "id": "H1ndBCWSHfoy",
        "outputId": "85d310a0-b220-4263-e6df-2a3c7f5b9a73"
      },
      "execution_count": 3,
      "outputs": [
        {
          "output_type": "stream",
          "name": "stdout",
          "text": [
            "enter float number or whatever: r\n",
            "False\n"
          ]
        }
      ]
    }
  ]
}